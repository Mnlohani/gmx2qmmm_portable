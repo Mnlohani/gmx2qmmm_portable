{
 "cells": [
  {
   "cell_type": "code",
   "execution_count": 1,
   "metadata": {},
   "outputs": [],
   "source": [
    "import numpy as np\n",
    "import sqlite3"
   ]
  },
  {
   "cell_type": "code",
   "execution_count": null,
   "metadata": {},
   "outputs": [],
   "source": [
    "databasecorrection(\"ENERGY\", \"aminoacid_CACB\", dist, mminfo, qminfo, qmmminfo, basedir)"
   ]
  },
  {
   "cell_type": "code",
   "execution_count": 2,
   "metadata": {},
   "outputs": [],
   "source": [
    "conn = sqlite3.connect('database.sqlite')\n",
    "c = conn.cursor()\n",
    "cut = \"aminoacid_CACB\"\n",
    "forcefield = 'amberGS'\n",
    "method = 'HF'\n",
    "basisset = 'STO-3G'\n",
    "c.execute('SELECT * FROM ' + cut + ' WHERE forcefield=\"' + forcefield + '\" AND method=\"' + method + '\" AND basisset =\"' + basisset + '\"')\n",
    "#a = c.fetchall()\n",
    "db_values = c.fetchall()[0]\n",
    "conn.close()\n",
    "returnvalue = 0"
   ]
  },
  {
   "cell_type": "code",
   "execution_count": 2,
   "metadata": {},
   "outputs": [],
   "source": [
    "cut = \"aminoacid_CACB\"\n",
    "forcefield = 'amberGS'\n",
    "method = 'HF'\n",
    "basisset = 'STO-3G'\n",
    "\n",
    "conn = sqlite3.connect('database.sqlite')\n",
    "method_set = conn.cursor()\n",
    "method_set.execute('SELECT * FROM ' + cut + ' WHERE forcefield=\"' + forcefield + '\" AND method=\"' + method + '\" AND basisset =\"' + basisset + '\"')\n",
    "method_set_value = method_set.fetchall()\n",
    "\n",
    "conn.close()\n",
    "returnvalue = 0"
   ]
  },
  {
   "cell_type": "code",
   "execution_count": null,
   "metadata": {},
   "outputs": [],
   "source": []
  }
 ],
 "metadata": {
  "kernelspec": {
   "display_name": "Python 2",
   "language": "python",
   "name": "python2"
  },
  "language_info": {
   "codemirror_mode": {
    "name": "ipython",
    "version": 3
   },
   "file_extension": ".py",
   "mimetype": "text/x-python",
   "name": "python",
   "nbconvert_exporter": "python",
   "pygments_lexer": "ipython3",
   "version": "3.6.6"
  },
  "latex_envs": {
   "LaTeX_envs_menu_present": true,
   "autoclose": false,
   "autocomplete": true,
   "bibliofile": "biblio.bib",
   "cite_by": "apalike",
   "current_citInitial": 1,
   "eqLabelWithNumbers": true,
   "eqNumInitial": 1,
   "hotkeys": {
    "equation": "Ctrl-E",
    "itemize": "Ctrl-I"
   },
   "labels_anchors": false,
   "latex_user_defs": false,
   "report_style_numbering": false,
   "user_envs_cfg": false
  },
  "toc": {
   "base_numbering": 1,
   "nav_menu": {},
   "number_sections": true,
   "sideBar": true,
   "skip_h1_title": false,
   "title_cell": "Table of Contents",
   "title_sidebar": "Contents",
   "toc_cell": false,
   "toc_position": {
    "height": "calc(100% - 180px)",
    "left": "10px",
    "top": "150px",
    "width": "294.4px"
   },
   "toc_section_display": true,
   "toc_window_display": true
  }
 },
 "nbformat": 4,
 "nbformat_minor": 2
}
